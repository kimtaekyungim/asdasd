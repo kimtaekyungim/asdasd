{
  "nbformat": 4,
  "nbformat_minor": 0,
  "metadata": {
    "colab": {
      "provenance": [],
      "authorship_tag": "ABX9TyNAZO+SSbk6kIn9NzCCDT2L"
    },
    "kernelspec": {
      "name": "python3",
      "display_name": "Python 3"
    },
    "language_info": {
      "name": "python"
    }
  },
  "cells": [
    {
      "cell_type": "markdown",
      "source": [
        "2번쨰 코딩~~"
      ],
      "metadata": {
        "id": "4wXrWG58MbPE"
      }
    },
    {
      "cell_type": "code",
      "source": [
        "n1 = int(input(\"N1의 값을 입력하시오.:\"))\n",
        "n2 = int(input(\"N2의 값을 입력하시오.:\"))\n",
        "n3 = int(input(\"N3의 값을 입력하시오.:\"))\n",
        "total = n1+n2+n3\n",
        "average = total / 3\n",
        "print(average)"
      ],
      "metadata": {
        "colab": {
          "base_uri": "https://localhost:8080/"
        },
        "id": "7M_VhOa6Hn-z",
        "outputId": "f2ddb97f-2c0c-4152-cf36-432a3d8712a1"
      },
      "execution_count": 3,
      "outputs": [
        {
          "output_type": "stream",
          "name": "stdout",
          "text": [
            "N1의 값을 입력하시오.:40\n",
            "N2의 값을 입력하시오.:50\n",
            "N3의 값을 입력하시오.:60\n",
            "50.0\n"
          ]
        }
      ]
    }
  ]
}